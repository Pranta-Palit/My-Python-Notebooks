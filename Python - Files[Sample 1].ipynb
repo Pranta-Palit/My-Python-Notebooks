{
 "cells": [
  {
   "cell_type": "markdown",
   "metadata": {},
   "source": [
    "# Python - File\n",
    "This notebook contains concept of \n",
    "- Reading file\n",
    "- RegEx module\n",
    "- Statistics module\n",
    "- String Formatting\n",
    "- Double Precision\n",
    "- Decimal rounding\n",
    "- List comprehension\n",
    "\n",
    "Practice **RegEx** here https://regex101.com/"
   ]
  },
  {
   "cell_type": "markdown",
   "metadata": {},
   "source": [
    "### Problem Statement:\n",
    "Write a program that prompts for a file name, then opens that file and reads through the file, looking for lines of the form:\n",
    "\n",
    "**X-DSPAM-Confidence:    0.8475**\n",
    "\n",
    "Count these lines and **extract the floating point values** from each of the lines and **compute the average** of those values and produce an output as shown below. Do not use the sum() function or a variable named sum in your solution.\n",
    "You can download the sample data at http://www.py4e.com/code3/mbox-short.txt when you are testing below enter **mbox-short.txt** as the file name.\n",
    "\n",
    "### Output: \n",
    "Average spam confidence: 0.750718518519"
   ]
  },
  {
   "cell_type": "markdown",
   "metadata": {},
   "source": [
    "### Requirements:\n",
    "This program requires a file to run. Find the sample file namely **\"mbox-short.txt\"**."
   ]
  },
  {
   "cell_type": "markdown",
   "metadata": {},
   "source": [
    "## Solution 1"
   ]
  },
  {
   "cell_type": "code",
   "execution_count": 38,
   "metadata": {},
   "outputs": [
    {
     "name": "stdout",
     "output_type": "stream",
     "text": [
      "Enter filename with extension (e.g: mbox-short.txt):mbox-short.txt\n",
      "Average spam confidence: 0.750718518519\n"
     ]
    }
   ],
   "source": [
    "import re\n",
    "\n",
    "# Prompts for a file name\n",
    "file_name = input(\"Enter filename with extension (e.g: mbox-short.txt):\")\n",
    "\n",
    "# to find the lines, we can use RegEx\n",
    "pattern = r\"X-DSPAM-Confidence: ([\\d]+\\.[\\d]+)\"\n",
    "\n",
    "# a counter and a var to get average\n",
    "c = 0 # counter\n",
    "f_points = 0 # to add the floating points\n",
    "avg = 0 # to store the average\n",
    "\n",
    "with open(file_name) as file:\n",
    "    # to read line, we can use file.read() or file.readline() or file.readlines() or a loop\n",
    "    for line in file:\n",
    "        if re.search(pattern,line):\n",
    "            get_pattern = re.search(pattern,line)\n",
    "            f_points += float(get_pattern[1]) # adding floating points without using sum()\n",
    "            c += 1 # counting the number of lines matched with pattern\n",
    "\n",
    "avg = f_points/c\n",
    "print(\"Average spam confidence: \"+str(round(avg,12))) # rounding the value to get expected output"
   ]
  },
  {
   "cell_type": "markdown",
   "metadata": {},
   "source": [
    "## Solution 2"
   ]
  },
  {
   "cell_type": "code",
   "execution_count": 39,
   "metadata": {},
   "outputs": [
    {
     "name": "stdout",
     "output_type": "stream",
     "text": [
      "Enter filename with extension (e.g: mbox-short.txt):mbox-short.txt\n",
      "Average spam confidence: 0.750718518519\n"
     ]
    }
   ],
   "source": [
    "import re\n",
    "import statistics\n",
    "\n",
    "# Prompts for a file name\n",
    "file_name = input(\"Enter filename with extension (e.g: mbox-short.txt):\")\n",
    "\n",
    "# to find the lines, we can use RegEx\n",
    "pattern = r\"X-DSPAM-Confidence: ([\\d]+\\.[\\d]+)\"\n",
    "\n",
    "# a list to collect all floating values\n",
    "f_values = []\n",
    "avg = 0 # to store the result\n",
    "\n",
    "with open(file_name) as file:\n",
    "    # to read line, we can use file.read() or file.readline() or file.readlines() or a loop\n",
    "    for line in file:\n",
    "        if re.search(pattern,line): #\n",
    "            f_values.append(float(re.search(pattern,line)[1])) # converting line str to float value, append the value in list\n",
    "\n",
    "avg = statistics.mean(f_values) # using py statistics library\n",
    "print(\"Average spam confidence: {:.12f}\".format(avg)) # another format of printing"
   ]
  },
  {
   "cell_type": "markdown",
   "metadata": {},
   "source": [
    "## Solution 3"
   ]
  },
  {
   "cell_type": "code",
   "execution_count": 40,
   "metadata": {},
   "outputs": [
    {
     "name": "stdout",
     "output_type": "stream",
     "text": [
      "Enter filename with extension (e.g: mbox-short.txt):mbox-short.txt\n",
      "Average spam confidence: 0.750718518519\n"
     ]
    }
   ],
   "source": [
    "\n",
    "import re\n",
    "import statistics\n",
    "\n",
    "# Prompts for a file name\n",
    "file_name = input(\"Enter filename with extension (e.g: mbox-short.txt):\")\n",
    "\n",
    "# to find the lines, we can use RegEx\n",
    "pattern = r\"X-DSPAM-Confidence: ([\\d]+\\.[\\d]+)\"\n",
    "\n",
    "# a list to collect all floating values\n",
    "f_values = []\n",
    "avg = 0 # to store the result\n",
    "\n",
    "with open(file_name) as file:\n",
    "    f_values = re.findall(pattern,file.read()) # find all matched group at once using RegEx\n",
    "\n",
    "f_values = [float(item) for item in f_values] # Using list comprehension to convert list values: str->float\n",
    "avg = statistics.mean(f_values) # using py statistics library\n",
    "print(\"Average spam confidence: {:.12f}\".format(avg)) # another format of printing"
   ]
  }
 ],
 "metadata": {
  "kernelspec": {
   "display_name": "Python 3",
   "language": "python",
   "name": "python3"
  },
  "language_info": {
   "codemirror_mode": {
    "name": "ipython",
    "version": 3
   },
   "file_extension": ".py",
   "mimetype": "text/x-python",
   "name": "python",
   "nbconvert_exporter": "python",
   "pygments_lexer": "ipython3",
   "version": "3.8.5"
  }
 },
 "nbformat": 4,
 "nbformat_minor": 4
}
